{
 "cells": [
  {
   "cell_type": "code",
   "execution_count": 1,
   "metadata": {},
   "outputs": [],
   "source": [
    "import re\n",
    "import json\n",
    "import csv\n",
    "import pandas as pd\n",
    "import numpy as np\n",
    "\n",
    "\n",
    "def spl_chars_removal(str):\n",
    "   \n",
    "    ##[0-9\\]]\n",
    "    str = re.sub(\"\\n\",\"\",str)\n",
    "        \n",
    "    return str\n",
    "# spl_chars_removal(df.to_string())"
   ]
  },
  {
   "cell_type": "markdown",
   "metadata": {},
   "source": [
    "nlpjson = open('nlp.json',)\n",
    "nlp2json = open('natural language processing.json',)\n",
    "nsjson = open('natural selection.json',)\n",
    "\n",
    "ns  = json.load(nsjson)\n",
    "nlp = json.load(nlp)\n",
    "nlp2= json.load(nlp2json)\n",
    "\n",
    "nlpjson.close()\n",
    "nsjson.close()\n",
    "nlp2json.close()\n"
   ]
  },
  {
   "cell_type": "code",
   "execution_count": 4,
   "metadata": {},
   "outputs": [],
   "source": [
    "#nlpjson = open('nlp.json',)\n",
    "nlp2json = open('natural language processing.json',)\n",
    "#nsjson = open('natural selection.json',)\n",
    "\n",
    "ns  = json.load(nsjson)\n",
    "nlp2 = json.load(nlp2json)\n",
    "\n",
    "\n",
    "#nlpjson.close()\n",
    "#nsjson.close()\n",
    "nlp2json.close()"
   ]
  },
  {
   "cell_type": "code",
   "execution_count": 13,
   "metadata": {},
   "outputs": [],
   "source": [
    "def parser(name,json) :\n",
    "    with open(\"documents.tsv\", \"w\") as fichier:\n",
    "        cpt = 0\n",
    "        for ele in json :\n",
    "            cpt+=1\n",
    "            sum = spl_chars_removal(ele.get(\"summary\")[0])\n",
    "            fichier.write(\"doc \"+str(cpt)+\" \"+sum+\"\\n\")\n",
    "        with open(\"queries.tsv\", \"w\") as fichier:\n",
    "            fichier.write(\"query \"+\"1 \"+name+\"\\n\")"
   ]
  },
  {
   "cell_type": "code",
   "execution_count": 14,
   "metadata": {},
   "outputs": [],
   "source": [
    "#parser('nlp',nlp)\n",
    "parser('natural selection',ns)"
   ]
  },
  {
   "cell_type": "markdown",
   "metadata": {},
   "source": [
    "parser('nlp',nlp)\n",
    "parser('natural language processing',nlp2)\n",
    "parser('natural selection',ns)\n"
   ]
  },
  {
   "cell_type": "code",
   "execution_count": 23,
   "metadata": {},
   "outputs": [],
   "source": []
  },
  {
   "cell_type": "code",
   "execution_count": null,
   "metadata": {},
   "outputs": [],
   "source": []
  }
 ],
 "metadata": {
  "interpreter": {
   "hash": "e47c316bb8fa38f570d3ba19df5236e6e4f76de8748c3943668338c811eec3a9"
  },
  "kernelspec": {
   "display_name": "Python 3.7.4 ('base')",
   "language": "python",
   "name": "python3"
  },
  "language_info": {
   "codemirror_mode": {
    "name": "ipython",
    "version": 3
   },
   "file_extension": ".py",
   "mimetype": "text/x-python",
   "name": "python",
   "nbconvert_exporter": "python",
   "pygments_lexer": "ipython3",
   "version": "3.7.4"
  },
  "orig_nbformat": 4
 },
 "nbformat": 4,
 "nbformat_minor": 2
}
